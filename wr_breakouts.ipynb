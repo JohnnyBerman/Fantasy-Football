{
 "cells": [
  {
   "cell_type": "code",
   "execution_count": 3,
   "metadata": {},
   "outputs": [],
   "source": [
    "from bs4 import BeautifulSoup\n",
    "import urllib2\n",
    "import string\n",
    "import sqlite3\n",
    "from functools import reduce"
   ]
  },
  {
   "cell_type": "code",
   "execution_count": 4,
   "metadata": {},
   "outputs": [],
   "source": [
    "CURRENT_SEASON = \"2018\"\n",
    "NUM_YEARS = 20"
   ]
  },
  {
   "cell_type": "code",
   "execution_count": 12,
   "metadata": {},
   "outputs": [],
   "source": [
    "def pro_football_focus_helper(url, columns):\n",
    "    index = 0\n",
    "    ls = []\n",
    "    while(True):\n",
    "        page = urllib2.urlopen(url + str(index))\n",
    "        soup = BeautifulSoup(page, 'lxml')\n",
    "        table_div = soup.find(\"div\", {\"id\" : \"div_results\"})\n",
    "        \n",
    "        try:\n",
    "            body = table_div.find(\"tbody\")\n",
    "        except:\n",
    "            return ls\n",
    "        \n",
    "        rows = body.findAll(\"tr\")\n",
    "        [ls.append(i) for i in map(lambda x: [x.find(\"td\",{\"data-stat\": column}).text for column in columns], filter(lambda x: None not in [x.find(\"td\",{\"data-stat\": column}) for column in columns], rows))]\n",
    "        index += 100\n",
    "\n",
    "def get_all_players():\n",
    "    url = \"https://www.pro-football-reference.com/play-index/psl_finder.cgi?request=1&match=total&draft=1\"\n",
    "    url += \"&year_min=\" + str(int(CURRENT_SEASON) - NUM_YEARS + 1) + \"&year_max=\" + CURRENT_SEASON + \"&season_start=1&season_end=-1&pos%5B%5D=wr&draft_year_min=1936\"\n",
    "    url += \"&draft_year_max=2019&draft_slot_min=1&draft_slot_max=500&draft_pick_in_round=pick_overall&conference=any\"\n",
    "    url += \"&draft_pos%5B%5D=wr&c1stat=rec_yds&c1comp=gt&c1val=900&c5val=1.0&order_by=rec_yds&offset=\"\n",
    "    \n",
    "    return map(lambda x: x[0], pro_football_focus_helper(url, [\"player\"]))\n",
    "        \n",
    "def get_all_seasons(): \n",
    "    url = \"https://www.pro-football-reference.com/play-index/psl_finder.cgi?request=1&match=single&draft=1\"\n",
    "    url += \"&year_min=\" + str(int(CURRENT_SEASON) - NUM_YEARS + 1) + \"&year_max=\" + CURRENT_SEASON + \"&season_start=1&season_end=-1&pos%5B%5D=wr&draft_year_min=1936\"\n",
    "    url += \"&draft_year_max=2019&draft_slot_min=1&draft_slot_max=500&draft_pick_in_round=pick_overall&conference=any\"\n",
    "    url += \"&draft_pos%5B%5D=wr&c1stat=rec_yds&c1comp=gt&c1val=900&c5val=1.0&order_by=rec_yds&offset=\"\n",
    "\n",
    "    return pro_football_focus_helper(url, [\"rec_yds\", \"player\"])"
   ]
  },
  {
   "cell_type": "code",
   "execution_count": 13,
   "metadata": {},
   "outputs": [],
   "source": [
    "all_seasons_yards = get_all_seasons()\n",
    "all_players = get_all_players()\n",
    "\n",
    "    \n",
    "    "
   ]
  },
  {
   "cell_type": "code",
   "execution_count": 14,
   "metadata": {},
   "outputs": [
    {
     "name": "stdout",
     "output_type": "stream",
     "text": [
      "[u'Larry Fitzgerald', u'Andre Johnson', u'Randy Moss*', u'Terrell Owens*', u'Steve Smith', u'Reggie Wayne', u'Anquan Boldin', u'Marques Colston', u'Marvin Harrison*', u'Torry Holt', u'Calvin Johnson', u'Brandon Marshall', u'Hines Ward', u'Antonio Brown', u'Isaac Bruce', u'Donald Driver', u'A.J. Green', u'DeSean Jackson', u'Chad Johnson', u'Julio Jones', u'Derrick Mason', u'Roddy White', u'T.Y. Hilton', u'T.J. Houshmandzadeh', u'Vincent Jackson', u'Jimmy Smith', u'Demaryius Thomas', u'Plaxico Burress', u'Mike Evans', u'DeAndre Hopkins', u'Joe Horn', u'Greg Jennings', u'Santana Moss', u'Eric Moulds', u'Amani Toomer', u'Odell Beckham', u'Dwayne Bowe', u'Tim Brown*', u'Dez Bryant', u'Laveranues Coles', u'Brandin Cooks', u'Eric Decker', u'Joey Galloway', u'Terry Glenn', u'Darrell Jackson', u'Keyshawn Johnson', u'Jarvis Landry', u'Keenan McCardell', u'Muhsin Muhammad', u'Jordy Nelson', u'Mike Wallace', u'Keenan Allen', u'Amari Cooper', u'Michael Crabtree', u'Julian Edelman', u'Pierre Garcon', u'Steve Johnson', u'Jeremy Maclin', u'Ed McCaffrey', u'Emmanuel Sanders', u'Bill Schroeder', u'Golden Tate', u'Michael Thomas', u'Davante Adams', u'Kelvin Benjamin', u'Bernard Berrian', u'Marty Booker', u'David Boston', u'Troy Brown', u'Antonio Bryant', u'Chris Chambers', u'Randall Cobb', u'Jerricho Cotchery', u'Stefon Diggs', u'Braylon Edwards', u'Bobby Engram', u'Lee Evans', u'Antonio Freeman', u'Jeff Graham', u'Brian Hartline', u'Tyreek Hill', u'Santonio Holmes', u'Qadry Ismail', u'Alshon Jeffery', u'Kevin Johnson', u'Marvin Jones', u'Eddie Kennison', u'Brandon Lloyd', u'Johnnie Morton', u'Hakeem Nicks', u'Jerry Porter', u'Jerry Rice*', u'JuJu Smith-Schuster', u'Javon Walker', u'Sammy Watkins', u'Mike Williams', u'Derrick Alexander', u'Travis Benjamin', u'Tyler Boyd', u'Deion Branch', u'Steve Breaston', u'Kenny Britt', u'John Brown', u'Nate Burleson', u'Mark Clayton', u'Michael Clayton', u'Albert Connell', u'Curtis Conway', u'Germane Crowell', u'Kevin Curtis', u'Sean Dawkins', u'Harry Douglas', u'Michael Floyd', u'Jabar Gaffney', u'Rod Gardner', u'Kenny Golladay', u'Marquise Goodwin', u'Percy Harvin', u'Donald Hayes', u'Darrius Heyward-Bey', u'Ike Hilliard', u'Rocket Ismail', u'Willie Jackson', u'Patrick Jeffers', u'Johnny Knox', u'Brandon LaFell', u'Ashley Lelie', u'Tyler Lockett', u'Mario Manningham', u'Tony Martin', u'Terance Mathis', u'Jordan Matthews', u'Rishard Matthews', u'Shaun McDonald', u'Quincy Morgan', u'Peerless Price', u'Rueben Randle', u'Sidney Rice', u'Allen Robinson', u'Koren Robinson', u'Marcus Robinson', u'Eddie Royal', u'Frank Sanders', u'Darnay Scott', u'Cecil Shorts', u'Steve Smith', u'Torrey Smith', u\"Donte' Stallworth\", u'Kenny Stills', u'Brandon Stokley', u'Michael Westbrook', u'Roy Williams', u'Robert Woods', u'Kendall Wright']\n"
     ]
    }
   ],
   "source": [
    "print all_players"
   ]
  },
  {
   "cell_type": "code",
   "execution_count": null,
   "metadata": {},
   "outputs": [],
   "source": []
  }
 ],
 "metadata": {
  "kernelspec": {
   "display_name": "Python 2",
   "language": "python",
   "name": "python2"
  },
  "language_info": {
   "codemirror_mode": {
    "name": "ipython",
    "version": 2
   },
   "file_extension": ".py",
   "mimetype": "text/x-python",
   "name": "python",
   "nbconvert_exporter": "python",
   "pygments_lexer": "ipython2",
   "version": "2.7.14"
  }
 },
 "nbformat": 4,
 "nbformat_minor": 2
}
