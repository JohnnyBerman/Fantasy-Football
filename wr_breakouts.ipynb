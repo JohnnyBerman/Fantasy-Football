{
 "cells": [
  {
   "cell_type": "code",
   "execution_count": 1,
   "metadata": {},
   "outputs": [],
   "source": [
    "from bs4 import BeautifulSoup\n",
    "import urllib2\n",
    "import string\n",
    "import sqlite3\n",
    "from functools import reduce"
   ]
  },
  {
   "cell_type": "code",
   "execution_count": 2,
   "metadata": {},
   "outputs": [],
   "source": [
    "CURRENT_SEASON = \"2018\""
   ]
  },
  {
   "cell_type": "code",
   "execution_count": 76,
   "metadata": {},
   "outputs": [],
   "source": [
    "def get_all_players(num_years = 20):\n",
    "    \"\"\"Web scrapes to find all available categories to be scraped on pro-football-reference\"\"\"\n",
    "    \n",
    "    index = 0\n",
    "    players = []\n",
    "    while(True):\n",
    "        url = \"https://www.pro-football-reference.com/play-index/psl_finder.cgi?request=1\"\n",
    "        url += \"&match=total&year_min=1999&year_max=2018&season_start=1&season_end=-1&pos%5B%5D=wr\"\n",
    "        url += \"&draft_year_min=1936&draft_year_max=2019&draft_slot_min=1&draft_slot_max=500\"\n",
    "        url += \"&draft_pick_in_round=pick_overall&conference=any&draft_pos%5B%5D=wr&c1stat=rec_yds\"\n",
    "        url += \"&c1comp=gt&c1val=900&c5val=1.0&order_by=rec_yds&offset=\" + str(index)\n",
    "    \n",
    "        page = urllib2.urlopen(url)\n",
    "        soup = BeautifulSoup(page, 'lxml')\n",
    "        table_div = soup.find(\"div\", {\"id\" : \"div_results\"})\n",
    "        try:\n",
    "            body = table_div.find(\"tbody\")\n",
    "        except:\n",
    "            return players\n",
    "        rows = body.findAll(\"tr\")\n",
    "        \n",
    "        index += 100\n",
    "        [players.append(i) for i in map(lambda x: x.find(\"td\").text, filter(lambda x: x.find(\"td\") != None, rows))]\n",
    "\n",
    "def generate_urls():\n",
    "    \"\"\"Generates all the URL's that need to be scraped. Due to 100 entry per page limit many URL's need to be \n",
    "       generated per category\"\"\"\n",
    "    \n",
    "    urls = list()\n",
    "    categories = get_statistical_categories()[1]\n",
    "    start_season = \"2015\"\n",
    "    \n",
    "    # Determines the number of games played from start_season through current season\n",
    "    offset_max = (int(CURRENT_SEASON) - int(start_season) + 1)*512\n",
    "    \n",
    "    # Generates urls for each category\n",
    "    for category in categories:\n",
    "        single_cat_url = [\"https://www.pro-football-reference.com/play-index/tgl_finder.cgi?request=1&match=game\"\n",
    "                          + \"&year_min=\" + start_season + \"&year_max=2018&game_type=R&game_num_min=0&game_num_max=\"\n",
    "                          + \"99&week_num_min=1&week_num_max=17&temperature_gtlt=lt&c5val=1.0&order_by=\" \n",
    "                          + category + \"&offset=\" + str(offset) for offset in range(0, offset_max, 100)]\n",
    "        urls.append(single_cat_url)\n",
    "        \n",
    "    return urls"
   ]
  },
  {
   "cell_type": "code",
   "execution_count": 78,
   "metadata": {},
   "outputs": [
    {
     "ename": "SyntaxError",
     "evalue": "'return' outside function (<ipython-input-78-a1cdf7db5e55>, line 2)",
     "output_type": "error",
     "traceback": [
      "\u001b[0;36m  File \u001b[0;32m\"<ipython-input-78-a1cdf7db5e55>\"\u001b[0;36m, line \u001b[0;32m2\u001b[0m\n\u001b[0;31m    return players\u001b[0m\n\u001b[0;31mSyntaxError\u001b[0m\u001b[0;31m:\u001b[0m 'return' outside function\n"
     ]
    }
   ],
   "source": [
    "players = get_all_players()\n",
    "print leplayers\n",
    "    \n",
    "    "
   ]
  },
  {
   "cell_type": "code",
   "execution_count": null,
   "metadata": {},
   "outputs": [],
   "source": []
  }
 ],
 "metadata": {
  "kernelspec": {
   "display_name": "Python 2",
   "language": "python",
   "name": "python2"
  },
  "language_info": {
   "codemirror_mode": {
    "name": "ipython",
    "version": 2
   },
   "file_extension": ".py",
   "mimetype": "text/x-python",
   "name": "python",
   "nbconvert_exporter": "python",
   "pygments_lexer": "ipython2",
   "version": "2.7.14"
  }
 },
 "nbformat": 4,
 "nbformat_minor": 2
}
